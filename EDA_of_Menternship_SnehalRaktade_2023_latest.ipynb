{
 "cells": [
  {
   "cell_type": "markdown",
   "id": "34a0c832",
   "metadata": {},
   "source": [
    "# Importing the libraries.\n",
    "# Read your data from CSV to a data frame."
   ]
  },
  {
   "cell_type": "code",
   "execution_count": 1,
   "id": "c159609b",
   "metadata": {},
   "outputs": [],
   "source": [
    "import warnings\n",
    "warnings.filterwarnings('ignore')"
   ]
  },
  {
   "cell_type": "code",
   "execution_count": 2,
   "id": "8f9aefde",
   "metadata": {},
   "outputs": [],
   "source": [
    "import numpy as np\n",
    "import pandas as pd\n",
    "from matplotlib import pyplot as plt\n",
    "import seaborn as sns\n",
    "dataset=pd.read_csv(r\"C:\\Users\\pc\\Downloads\\Recruitment_Data.csv\")"
   ]
  },
  {
   "cell_type": "markdown",
   "id": "ab5f5dc5",
   "metadata": {},
   "source": [
    "# Understanding the dataset which imported properly."
   ]
  },
  {
   "cell_type": "markdown",
   "id": "8cc26815",
   "metadata": {},
   "source": [
    "# using head(),tail(),shape,describe and lastly info()."
   ]
  },
  {
   "cell_type": "code",
   "execution_count": 3,
   "id": "2958bf4d",
   "metadata": {},
   "outputs": [
    {
     "data": {
      "text/html": [
       "<div>\n",
       "<style scoped>\n",
       "    .dataframe tbody tr th:only-of-type {\n",
       "        vertical-align: middle;\n",
       "    }\n",
       "\n",
       "    .dataframe tbody tr th {\n",
       "        vertical-align: top;\n",
       "    }\n",
       "\n",
       "    .dataframe thead th {\n",
       "        text-align: right;\n",
       "    }\n",
       "</style>\n",
       "<table border=\"1\" class=\"dataframe\">\n",
       "  <thead>\n",
       "    <tr style=\"text-align: right;\">\n",
       "      <th></th>\n",
       "      <th>attrition</th>\n",
       "      <th>performance_rating</th>\n",
       "      <th>sales_quota_pct</th>\n",
       "      <th>recruiting_source</th>\n",
       "    </tr>\n",
       "  </thead>\n",
       "  <tbody>\n",
       "    <tr>\n",
       "      <th>0</th>\n",
       "      <td>1</td>\n",
       "      <td>3</td>\n",
       "      <td>1.088190</td>\n",
       "      <td>Applied Online</td>\n",
       "    </tr>\n",
       "    <tr>\n",
       "      <th>1</th>\n",
       "      <td>0</td>\n",
       "      <td>3</td>\n",
       "      <td>2.394173</td>\n",
       "      <td>NaN</td>\n",
       "    </tr>\n",
       "    <tr>\n",
       "      <th>2</th>\n",
       "      <td>1</td>\n",
       "      <td>2</td>\n",
       "      <td>0.497530</td>\n",
       "      <td>Campus</td>\n",
       "    </tr>\n",
       "    <tr>\n",
       "      <th>3</th>\n",
       "      <td>0</td>\n",
       "      <td>2</td>\n",
       "      <td>2.513958</td>\n",
       "      <td>NaN</td>\n",
       "    </tr>\n",
       "    <tr>\n",
       "      <th>4</th>\n",
       "      <td>0</td>\n",
       "      <td>3</td>\n",
       "      <td>1.424789</td>\n",
       "      <td>Applied Online</td>\n",
       "    </tr>\n",
       "  </tbody>\n",
       "</table>\n",
       "</div>"
      ],
      "text/plain": [
       "   attrition  performance_rating  sales_quota_pct recruiting_source\n",
       "0          1                   3         1.088190    Applied Online\n",
       "1          0                   3         2.394173               NaN\n",
       "2          1                   2         0.497530            Campus\n",
       "3          0                   2         2.513958               NaN\n",
       "4          0                   3         1.424789    Applied Online"
      ]
     },
     "execution_count": 3,
     "metadata": {},
     "output_type": "execute_result"
    }
   ],
   "source": [
    "dataset.head()"
   ]
  },
  {
   "cell_type": "code",
   "execution_count": 4,
   "id": "7dda3ae8",
   "metadata": {},
   "outputs": [
    {
     "data": {
      "text/html": [
       "<div>\n",
       "<style scoped>\n",
       "    .dataframe tbody tr th:only-of-type {\n",
       "        vertical-align: middle;\n",
       "    }\n",
       "\n",
       "    .dataframe tbody tr th {\n",
       "        vertical-align: top;\n",
       "    }\n",
       "\n",
       "    .dataframe thead th {\n",
       "        text-align: right;\n",
       "    }\n",
       "</style>\n",
       "<table border=\"1\" class=\"dataframe\">\n",
       "  <thead>\n",
       "    <tr style=\"text-align: right;\">\n",
       "      <th></th>\n",
       "      <th>attrition</th>\n",
       "      <th>performance_rating</th>\n",
       "      <th>sales_quota_pct</th>\n",
       "      <th>recruiting_source</th>\n",
       "    </tr>\n",
       "  </thead>\n",
       "  <tbody>\n",
       "    <tr>\n",
       "      <th>441</th>\n",
       "      <td>0</td>\n",
       "      <td>3</td>\n",
       "      <td>1.627813</td>\n",
       "      <td>Campus</td>\n",
       "    </tr>\n",
       "    <tr>\n",
       "      <th>442</th>\n",
       "      <td>1</td>\n",
       "      <td>4</td>\n",
       "      <td>0.689682</td>\n",
       "      <td>Referral</td>\n",
       "    </tr>\n",
       "    <tr>\n",
       "      <th>443</th>\n",
       "      <td>0</td>\n",
       "      <td>4</td>\n",
       "      <td>1.196198</td>\n",
       "      <td>NaN</td>\n",
       "    </tr>\n",
       "    <tr>\n",
       "      <th>444</th>\n",
       "      <td>0</td>\n",
       "      <td>4</td>\n",
       "      <td>1.598213</td>\n",
       "      <td>Applied Online</td>\n",
       "    </tr>\n",
       "    <tr>\n",
       "      <th>445</th>\n",
       "      <td>0</td>\n",
       "      <td>2</td>\n",
       "      <td>0.582642</td>\n",
       "      <td>NaN</td>\n",
       "    </tr>\n",
       "  </tbody>\n",
       "</table>\n",
       "</div>"
      ],
      "text/plain": [
       "     attrition  performance_rating  sales_quota_pct recruiting_source\n",
       "441          0                   3         1.627813            Campus\n",
       "442          1                   4         0.689682          Referral\n",
       "443          0                   4         1.196198               NaN\n",
       "444          0                   4         1.598213    Applied Online\n",
       "445          0                   2         0.582642               NaN"
      ]
     },
     "execution_count": 4,
     "metadata": {},
     "output_type": "execute_result"
    }
   ],
   "source": [
    "dataset.tail()"
   ]
  },
  {
   "cell_type": "code",
   "execution_count": 5,
   "id": "42b7d609",
   "metadata": {},
   "outputs": [
    {
     "data": {
      "text/plain": [
       "(446, 4)"
      ]
     },
     "execution_count": 5,
     "metadata": {},
     "output_type": "execute_result"
    }
   ],
   "source": [
    "dataset.shape"
   ]
  },
  {
   "cell_type": "code",
   "execution_count": 6,
   "id": "d67f004b",
   "metadata": {},
   "outputs": [
    {
     "data": {
      "text/plain": [
       "<bound method NDFrame.describe of      attrition  performance_rating  sales_quota_pct recruiting_source\n",
       "0            1                   3         1.088190    Applied Online\n",
       "1            0                   3         2.394173               NaN\n",
       "2            1                   2         0.497530            Campus\n",
       "3            0                   2         2.513958               NaN\n",
       "4            0                   3         1.424789    Applied Online\n",
       "..         ...                 ...              ...               ...\n",
       "441          0                   3         1.627813            Campus\n",
       "442          1                   4         0.689682          Referral\n",
       "443          0                   4         1.196198               NaN\n",
       "444          0                   4         1.598213    Applied Online\n",
       "445          0                   2         0.582642               NaN\n",
       "\n",
       "[446 rows x 4 columns]>"
      ]
     },
     "execution_count": 6,
     "metadata": {},
     "output_type": "execute_result"
    }
   ],
   "source": [
    "dataset.describe"
   ]
  },
  {
   "cell_type": "code",
   "execution_count": 7,
   "id": "37fc5968",
   "metadata": {},
   "outputs": [
    {
     "name": "stdout",
     "output_type": "stream",
     "text": [
      "<class 'pandas.core.frame.DataFrame'>\n",
      "RangeIndex: 446 entries, 0 to 445\n",
      "Data columns (total 4 columns):\n",
      " #   Column              Non-Null Count  Dtype  \n",
      "---  ------              --------------  -----  \n",
      " 0   attrition           446 non-null    int64  \n",
      " 1   performance_rating  446 non-null    int64  \n",
      " 2   sales_quota_pct     446 non-null    float64\n",
      " 3   recruiting_source   241 non-null    object \n",
      "dtypes: float64(1), int64(2), object(1)\n",
      "memory usage: 14.1+ KB\n"
     ]
    }
   ],
   "source": [
    "dataset.info()"
   ]
  },
  {
   "cell_type": "markdown",
   "id": "889e74f6",
   "metadata": {},
   "source": [
    "# info() gives us the detail information about the dataset, which all are non-null and the data types are integer, float and string."
   ]
  },
  {
   "cell_type": "markdown",
   "id": "fc421bc6",
   "metadata": {},
   "source": [
    "# step 1 : DATA CLEANING check if there are any null values. \n",
    "\n"
   ]
  },
  {
   "cell_type": "markdown",
   "id": "84a6ad61",
   "metadata": {},
   "source": [
    "# adding a new category in the recruiting_soutce column to replace the null values."
   ]
  },
  {
   "cell_type": "markdown",
   "id": "d0c4cbec",
   "metadata": {},
   "source": [
    "# data handling "
   ]
  },
  {
   "cell_type": "code",
   "execution_count": 8,
   "id": "14dd4384",
   "metadata": {},
   "outputs": [
    {
     "name": "stdout",
     "output_type": "stream",
     "text": [
      "     attrition  performance_rating  sales_quota_pct  recruiting_source\n",
      "0            1                   3         1.088190     Applied Online\n",
      "1            0                   3         2.394173  Walk-in interview\n",
      "2            1                   2         0.497530             Campus\n",
      "3            0                   2         2.513958  Walk-in interview\n",
      "4            0                   3         1.424789     Applied Online\n",
      "..         ...                 ...              ...                ...\n",
      "441          0                   3         1.627813             Campus\n",
      "442          1                   4         0.689682           Referral\n",
      "443          0                   4         1.196198  Walk-in interview\n",
      "444          0                   4         1.598213     Applied Online\n",
      "445          0                   2         0.582642  Walk-in interview\n",
      "\n",
      "[446 rows x 4 columns]\n"
     ]
    }
   ],
   "source": [
    "new_dataset = dataset.fillna('Walk-in interview')\n",
    "print(new_dataset)"
   ]
  },
  {
   "cell_type": "markdown",
   "id": "df3b229e",
   "metadata": {},
   "source": [
    "# UNIVARITE ANALYSIS"
   ]
  },
  {
   "cell_type": "code",
   "execution_count": 9,
   "id": "73ee29b6",
   "metadata": {},
   "outputs": [
    {
     "data": {
      "text/plain": [
       "<Axes: xlabel='attrition', ylabel='count'>"
      ]
     },
     "execution_count": 9,
     "metadata": {},
     "output_type": "execute_result"
    },
    {
     "data": {
      "image/png": "[encoded data removed]",
      "text/plain": [
       "<Figure size 640x480 with 1 Axes>"
      ]
     },
     "metadata": {},
     "output_type": "display_data"
    }
   ],
   "source": [
    "sns.countplot(x = 'attrition' , data=new_dataset)"
   ]
  },
  {
   "cell_type": "code",
   "execution_count": 10,
   "id": "5f606398",
   "metadata": {},
   "outputs": [
    {
     "data": {
      "text/plain": [
       "<Axes: xlabel='sales_quota_pct', ylabel='Count'>"
      ]
     },
     "execution_count": 10,
     "metadata": {},
     "output_type": "execute_result"
    },
    {
     "data": {
      "image/png": "[encoded data removed]",
      "text/plain": [
       "<Figure size 640x480 with 1 Axes>"
      ]
     },
     "metadata": {},
     "output_type": "display_data"
    }
   ],
   "source": [
    "sns.histplot(new_dataset['sales_quota_pct'])"
   ]
  },
  {
   "cell_type": "markdown",
   "id": "e64ae147",
   "metadata": {},
   "source": [
    "# BIVARIATE ANALYSIS\n",
    "# let's check the relationship for performance_rating and sales_quota_pct.(Numerical vs numerical)"
   ]
  },
  {
   "cell_type": "code",
   "execution_count": 11,
   "id": "7f845b01",
   "metadata": {},
   "outputs": [
    {
     "data": {
      "text/plain": [
       "<Axes: xlabel='sales_quota_pct', ylabel='performance_rating'>"
      ]
     },
     "execution_count": 11,
     "metadata": {},
     "output_type": "execute_result"
    },
    {
     "data": {
      "image/png": "[encoded data removed]",
      "text/plain": [
       "<Figure size 640x480 with 1 Axes>"
      ]
     },
     "metadata": {},
     "output_type": "display_data"
    }
   ],
   "source": [
    "sns.scatterplot(x=new_dataset['sales_quota_pct'], y=new_dataset['performance_rating'])"
   ]
  },
  {
   "cell_type": "markdown",
   "id": "65c804e4",
   "metadata": {},
   "source": [
    "# Numerical vs categorical"
   ]
  },
  {
   "cell_type": "code",
   "execution_count": 12,
   "id": "d842d2b9",
   "metadata": {},
   "outputs": [
    {
     "data": {
      "text/plain": [
       "<Axes: xlabel='performance_rating', ylabel='recruiting_source'>"
      ]
     },
     "execution_count": 12,
     "metadata": {},
     "output_type": "execute_result"
    },
    {
     "data": {
      "image/png": "[encoded data removed]",
      "text/plain": [
       "<Figure size 640x480 with 1 Axes>"
      ]
     },
     "metadata": {},
     "output_type": "display_data"
    }
   ],
   "source": [
    "sns.scatterplot(x=new_dataset['performance_rating'], y=new_dataset['recruiting_source'])"
   ]
  },
  {
   "cell_type": "code",
   "execution_count": null,
   "id": "d6e2aea0",
   "metadata": {},
   "outputs": [],
   "source": []
  },
  {
   "cell_type": "code",
   "execution_count": null,
   "id": "e1d265cf",
   "metadata": {},
   "outputs": [],
   "source": []
  },
  {
   "cell_type": "markdown",
   "id": "73dc2753",
   "metadata": {},
   "source": [
    "# Task Identify groups in the dataset\n",
    "# grouping the data using GroupBy functions"
   ]
  },
  {
   "cell_type": "code",
   "execution_count": 13,
   "id": "c24baa4c",
   "metadata": {},
   "outputs": [
    {
     "data": {
      "text/plain": [
       "<pandas.core.groupby.generic.DataFrameGroupBy object at 0x0000024D1BAC5C00>"
      ]
     },
     "execution_count": 13,
     "metadata": {},
     "output_type": "execute_result"
    }
   ],
   "source": [
    "new_dataset.groupby(\"attrition\")"
   ]
  },
  {
   "cell_type": "markdown",
   "id": "68482895",
   "metadata": {},
   "source": [
    "# this below code will calculate the mean of all the numerical columns that are in the dataset."
   ]
  },
  {
   "cell_type": "code",
   "execution_count": 14,
   "id": "977af0a7",
   "metadata": {},
   "outputs": [
    {
     "data": {
      "text/html": [
       "<div>\n",
       "<style scoped>\n",
       "    .dataframe tbody tr th:only-of-type {\n",
       "        vertical-align: middle;\n",
       "    }\n",
       "\n",
       "    .dataframe tbody tr th {\n",
       "        vertical-align: top;\n",
       "    }\n",
       "\n",
       "    .dataframe thead th {\n",
       "        text-align: right;\n",
       "    }\n",
       "</style>\n",
       "<table border=\"1\" class=\"dataframe\">\n",
       "  <thead>\n",
       "    <tr style=\"text-align: right;\">\n",
       "      <th></th>\n",
       "      <th>performance_rating</th>\n",
       "      <th>sales_quota_pct</th>\n",
       "    </tr>\n",
       "    <tr>\n",
       "      <th>attrition</th>\n",
       "      <th></th>\n",
       "      <th></th>\n",
       "    </tr>\n",
       "  </thead>\n",
       "  <tbody>\n",
       "    <tr>\n",
       "      <th>0</th>\n",
       "      <td>2.903134</td>\n",
       "      <td>1.099018</td>\n",
       "    </tr>\n",
       "    <tr>\n",
       "      <th>1</th>\n",
       "      <td>2.863158</td>\n",
       "      <td>1.021973</td>\n",
       "    </tr>\n",
       "  </tbody>\n",
       "</table>\n",
       "</div>"
      ],
      "text/plain": [
       "           performance_rating  sales_quota_pct\n",
       "attrition                                     \n",
       "0                    2.903134         1.099018\n",
       "1                    2.863158         1.021973"
      ]
     },
     "execution_count": 14,
     "metadata": {},
     "output_type": "execute_result"
    }
   ],
   "source": [
    "new_dataset.groupby(\"attrition\").mean()"
   ]
  },
  {
   "cell_type": "code",
   "execution_count": null,
   "id": "051445af",
   "metadata": {},
   "outputs": [],
   "source": []
  },
  {
   "cell_type": "code",
   "execution_count": 15,
   "id": "4f12e041",
   "metadata": {},
   "outputs": [],
   "source": [
    "var=new_dataset.groupby('recruiting_source')['sales_quota_pct']"
   ]
  },
  {
   "cell_type": "code",
   "execution_count": 16,
   "id": "c4e00c33",
   "metadata": {},
   "outputs": [
    {
     "name": "stdout",
     "output_type": "stream",
     "text": [
      "<pandas.core.groupby.generic.SeriesGroupBy object at 0x0000024D1BB3A590>\n"
     ]
    }
   ],
   "source": [
    "print(var)"
   ]
  },
  {
   "cell_type": "code",
   "execution_count": 28,
   "id": "f7b1f763",
   "metadata": {},
   "outputs": [
    {
     "data": {
      "image/png": "[encoded data removed]",
      "text/plain": [
       "<Figure size 640x480 with 1 Axes>"
      ]
     },
     "metadata": {},
     "output_type": "display_data"
    }
   ],
   "source": [
    "sns.barplot(x ='sales_quota_pct',y ='recruiting_source',data = new_dataset)\n",
    "plt.show()"
   ]
  },
  {
   "cell_type": "code",
   "execution_count": null,
   "id": "a7fde118",
   "metadata": {},
   "outputs": [],
   "source": []
  },
  {
   "cell_type": "markdown",
   "id": "2ffe65b7",
   "metadata": {},
   "source": [
    "# Print out the average Sales Number grouped by Recruiting Source"
   ]
  },
  {
   "cell_type": "code",
   "execution_count": 18,
   "id": "64db5296",
   "metadata": {},
   "outputs": [],
   "source": [
    "var=new_dataset.groupby('recruiting_source')['sales_quota_pct'].mean()"
   ]
  },
  {
   "cell_type": "code",
   "execution_count": 19,
   "id": "1f9a59d8",
   "metadata": {},
   "outputs": [
    {
     "name": "stdout",
     "output_type": "stream",
     "text": [
      "recruiting_source\n",
      "Applied Online       1.058590\n",
      "Campus               0.908035\n",
      "Referral             1.023198\n",
      "Search Firm          0.886960\n",
      "Walk-in interview    1.168109\n",
      "Name: sales_quota_pct, dtype: float64\n"
     ]
    }
   ],
   "source": [
    "print(var)"
   ]
  },
  {
   "cell_type": "markdown",
   "id": "b726bb9b",
   "metadata": {},
   "source": [
    "# Print out the average Attrition Number grouped by Recruiting Source"
   ]
  },
  {
   "cell_type": "code",
   "execution_count": 20,
   "id": "57a73af8",
   "metadata": {},
   "outputs": [],
   "source": [
    "var2=new_dataset.groupby('recruiting_source')['attrition'].mean()"
   ]
  },
  {
   "cell_type": "code",
   "execution_count": 21,
   "id": "634c30d7",
   "metadata": {},
   "outputs": [
    {
     "name": "stdout",
     "output_type": "stream",
     "text": [
      "recruiting_source\n",
      "Applied Online       0.246154\n",
      "Campus               0.285714\n",
      "Referral             0.333333\n",
      "Search Firm          0.500000\n",
      "Walk-in interview    0.131707\n",
      "Name: attrition, dtype: float64\n"
     ]
    }
   ],
   "source": [
    "print(var2)"
   ]
  },
  {
   "cell_type": "code",
   "execution_count": null,
   "id": "c538299e",
   "metadata": {},
   "outputs": [],
   "source": []
  },
  {
   "cell_type": "markdown",
   "id": "f82e993d",
   "metadata": {},
   "source": [
    "# Take a look at these numbers to get an idea about how each Source is performing on these numbers - Keep in mind that we are\n",
    "# looking for sources that have high Sales numbers and low Attrition numbers."
   ]
  },
  {
   "cell_type": "code",
   "execution_count": 22,
   "id": "8a73cb01",
   "metadata": {},
   "outputs": [],
   "source": [
    "performance_dataset= pd.merge(var,var2, on='recruiting_source')"
   ]
  },
  {
   "cell_type": "code",
   "execution_count": 23,
   "id": "54f79458",
   "metadata": {},
   "outputs": [
    {
     "name": "stdout",
     "output_type": "stream",
     "text": [
      "                   sales_quota_pct  attrition\n",
      "recruiting_source                            \n",
      "Walk-in interview         1.168109   0.131707\n",
      "Applied Online            1.058590   0.246154\n",
      "Referral                  1.023198   0.333333\n",
      "Campus                    0.908035   0.285714\n",
      "Search Firm               0.886960   0.500000\n"
     ]
    }
   ],
   "source": [
    "performance_dataset=performance_dataset.sort_values(by=['sales_quota_pct','attrition'], ascending=[False,True])\n",
    "\n",
    "print(performance_dataset)"
   ]
  },
  {
   "cell_type": "code",
   "execution_count": 27,
   "id": "b8f5ce0f",
   "metadata": {},
   "outputs": [
    {
     "data": {
      "image/png": "[encoded data removed]",
      "text/plain": [
       "<Figure size 640x480 with 1 Axes>"
      ]
     },
     "metadata": {},
     "output_type": "display_data"
    }
   ],
   "source": [
    "sns.barplot(x = 'attrition',y = 'sales_quota_pct',data = performance_dataset)\n",
    "plt.show()"
   ]
  },
  {
   "cell_type": "code",
   "execution_count": null,
   "id": "07c3bd26",
   "metadata": {},
   "outputs": [],
   "source": []
  },
  {
   "cell_type": "code",
   "execution_count": null,
   "id": "46114676",
   "metadata": {},
   "outputs": [],
   "source": []
  },
  {
   "cell_type": "code",
   "execution_count": null,
   "id": "7ccadff0",
   "metadata": {},
   "outputs": [],
   "source": []
  }
 ],
 "metadata": {
  "kernelspec": {
   "display_name": "Python 3 (ipykernel)",
   "language": "python",
   "name": "python3"
  },
  "language_info": {
   "codemirror_mode": {
    "name": "ipython",
    "version": 3
   },
   "file_extension": ".py",
   "mimetype": "text/x-python",
   "name": "python",
   "nbconvert_exporter": "python",
   "pygments_lexer": "ipython3",
   "version": "3.10.9"
  }
 },
 "nbformat": 4,
 "nbformat_minor": 5
}
